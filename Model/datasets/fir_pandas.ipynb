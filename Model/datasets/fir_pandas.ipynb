version https://git-lfs.github.com/spec/v1
oid sha256:6e30e30c3a41fadb963d9e30b080f6cc879ecab39dd3d9c1477e655cf9218624
size 684
